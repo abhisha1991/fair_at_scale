{
 "cells": [
  {
   "cell_type": "markdown",
   "id": "11f261b2",
   "metadata": {},
   "source": [
    "# Optimizing Remove duplicates"
   ]
  },
  {
   "cell_type": "code",
   "execution_count": 2,
   "id": "cf6fb0f1",
   "metadata": {},
   "outputs": [],
   "source": [
    "# Problem statement to generate 2 lists, one of cascades and another of timestamps.\n",
    "import random\n",
    "\n",
    "def generate_number_list(n, start, end):\n",
    "    \"\"\"\n",
    "    Generates a list of n random numbers within a specified range (inclusive).\n",
    "\n",
    "    Args:\n",
    "      n: The number of elements in the list.\n",
    "      start: The starting value of the range (inclusive).\n",
    "      end: The ending value of the range (inclusive).\n",
    "\n",
    "    Returns:\n",
    "      A list of n random numbers within the specified range.\n",
    "    \"\"\"\n",
    "    numbers = []\n",
    "    for _ in range(n):\n",
    "        numbers.append(random.randint(start, end))\n",
    "    return numbers\n",
    "\n",
    "from datetime import datetime, timedelta\n",
    "\n",
    "def generate_timestamp_list(n, start_time, end_time):\n",
    "    \"\"\"\n",
    "    Generates a list of n random timestamps within a specified time range.\n",
    "\n",
    "    Args:\n",
    "      n: The number of timestamps in the list.\n",
    "      start_time: The starting datetime object (inclusive).\n",
    "      end_time: The ending datetime object (inclusive).\n",
    "\n",
    "    Returns:\n",
    "      A list of n random timestamps within the specified time range.\n",
    "    \"\"\"\n",
    "    time_delta = end_time - start_time\n",
    "    total_seconds = time_delta.total_seconds()\n",
    "    timestamps = []\n",
    "    for _ in range(n):\n",
    "    # Generate random number of seconds within the time range\n",
    "        random_seconds = random.randint(0, int(total_seconds))\n",
    "        # Add random seconds to start time to get a random timestamp\n",
    "        timestamp = start_time + timedelta(seconds=random_seconds)\n",
    "        timestamps.append(timestamp)\n",
    "    return timestamps\n",
    "\n"
   ]
  },
  {
   "cell_type": "code",
   "execution_count": 4,
   "id": "4756111e",
   "metadata": {},
   "outputs": [
    {
     "name": "stdout",
     "output_type": "stream",
     "text": [
      "100000 100000\n",
      "CPU times: user 123 ms, sys: 4.06 ms, total: 127 ms\n",
      "Wall time: 127 ms\n"
     ]
    }
   ],
   "source": [
    "%%time\n",
    "# Example usage (assuming start_time and end_time are defined as datetime objects)\n",
    "N = 100000\n",
    "today = datetime.today()\n",
    "one_year_ago = today - timedelta(days=365)\n",
    "\n",
    "timestamps = generate_timestamp_list(N, start_time=one_year_ago, end_time=today)\n",
    "nodes = generate_number_list(N, 3, 7)\n",
    "\n",
    "print(len(timestamps), len(nodes))"
   ]
  },
  {
   "cell_type": "code",
   "execution_count": 35,
   "id": "ed4339e6",
   "metadata": {},
   "outputs": [],
   "source": [
    "def remove_duplicates(cascade_nodes, cascade_times):\n",
    "    \"\"\"\n",
    "    Summary:\n",
    "    Some tweets have more then one retweets from the same person\n",
    "    Keep only the first retweet of that person\n",
    "\n",
    "    Return:\n",
    "    Updated list of cascade nodes and corresponding cascade times\n",
    "    \n",
    "    This implementation is from the fair_at_scale repo.\n",
    "    \"\"\"\n",
    "    duplicates = set([x for x in cascade_nodes if cascade_nodes.count(x) > 1])\n",
    "    for d in duplicates:\n",
    "        to_remove = [v for v, b in enumerate(cascade_nodes) if b == d][1:]\n",
    "        to_remove = set(to_remove)\n",
    "        cascade_nodes = [b for v, b in enumerate(cascade_nodes) if v not in to_remove]\n",
    "        cascade_times = [b for v, b in enumerate(cascade_times) if v not in to_remove]\n",
    "\n",
    "    return cascade_nodes, cascade_times\n",
    "\n",
    "def remove_duplicates_fast(cascade_nodes, cascade_times):\n",
    "    \"\"\"\n",
    "    Summary:\n",
    "    Removes duplicate cascade nodes while preserving corresponding times.\n",
    "\n",
    "    Args:\n",
    "      cascade_nodes: List of cascade nodes (e.g., user IDs).\n",
    "      cascade_times: List of corresponding timestamps for each cascade node.\n",
    "\n",
    "    Returns:\n",
    "      A tuple containing the filtered lists: (unique_cascade_nodes, unique_cascade_times).\n",
    "      \n",
    "    This implementation removes duplicates in one pass through cascade nodes and times.\n",
    "    \"\"\"\n",
    "    seen = set()\n",
    "    unique_cascade_nodes = []\n",
    "    unique_cascade_times = []\n",
    "    for node, time in zip(cascade_nodes, cascade_times):\n",
    "        if node not in seen:\n",
    "            seen.add(node)\n",
    "            unique_cascade_nodes.append(node)\n",
    "            unique_cascade_times.append(time)\n",
    "    return unique_cascade_nodes, unique_cascade_times\n",
    "\n",
    "from concurrent.futures import ProcessPoolExecutor\n",
    "import multiprocessing\n",
    "\n",
    "def divide_conquer_remove_duplicates(cascade_nodes, cascade_times, is_worker=True):\n",
    "    \"\"\"\n",
    "    Summary:\n",
    "    Removes duplicate cascade nodes while preserving corresponding times using a divide and conquer approach.\n",
    "\n",
    "    Args:\n",
    "    cascade_nodes: List of cascade nodes (e.g., user IDs).\n",
    "    cascade_times: List of corresponding timestamps for each cascade node.\n",
    "\n",
    "    Returns:\n",
    "    A tuple containing the filtered lists: (unique_cascade_nodes, unique_cascade_times).\n",
    "    \n",
    "    This implementation uses a divide and conquer approach across all available CPUs.\n",
    "    \"\"\"\n",
    "\n",
    "    # Base case for small lists\n",
    "    if len(cascade_nodes) <= 100:\n",
    "        seen = set()\n",
    "        unique_cascade_nodes = []\n",
    "        unique_cascade_times = []\n",
    "        for node, time in zip(cascade_nodes, cascade_times):\n",
    "            if node not in seen:\n",
    "                seen.add(node)\n",
    "                unique_cascade_nodes.append(node)\n",
    "                unique_cascade_times.append(time)\n",
    "        return unique_cascade_nodes, unique_cascade_times\n",
    "\n",
    "    # Divide the lists into halves\n",
    "    mid = len(cascade_nodes) // 2\n",
    "    left_nodes, left_times = cascade_nodes[:mid], cascade_times[:mid]\n",
    "    right_nodes, right_times = cascade_nodes[mid:], cascade_times[mid:]\n",
    "\n",
    "    # Use concurrent processes to remove duplicates in halves\n",
    "    if is_worker:\n",
    "        unique_left_nodes, unique_left_times = divide_conquer_remove_duplicates(left_nodes, left_times)\n",
    "        unique_right_nodes, unique_right_times = divide_conquer_remove_duplicates(right_nodes, right_times)\n",
    "    else:\n",
    "        with ProcessPoolExecutor(max_workers=multiprocessing.cpu_count()) as executor:\n",
    "            unique_left_nodes, unique_left_times = executor.submit(\n",
    "                divide_conquer_remove_duplicates, left_nodes, left_times\n",
    "            ).result()\n",
    "            unique_right_nodes, unique_right_times = executor.submit(\n",
    "                divide_conquer_remove_duplicates, right_nodes, right_times\n",
    "            ).result()\n",
    "\n",
    "    # Merge the results and remove duplicates between halves\n",
    "    seen = set(unique_left_nodes)\n",
    "    unique_cascade_nodes = unique_left_nodes.copy()\n",
    "    unique_cascade_times = unique_left_times.copy()\n",
    "    for node, time in zip(unique_right_nodes, unique_right_times):\n",
    "        if node not in seen:\n",
    "            seen.add(node)\n",
    "            unique_cascade_nodes.append(node)\n",
    "            unique_cascade_times.append(time)\n",
    "\n",
    "    return unique_cascade_nodes, unique_cascade_times"
   ]
  },
  {
   "cell_type": "markdown",
   "id": "260a6652",
   "metadata": {},
   "source": [
    "### `remove_duplicates`: Original vs one-pass fast vs divide-and-conquer"
   ]
  },
  {
   "cell_type": "code",
   "execution_count": 6,
   "id": "ca587707",
   "metadata": {},
   "outputs": [
    {
     "name": "stdout",
     "output_type": "stream",
     "text": [
      "CPU times: user 1min, sys: 299 ms, total: 1min 1s\n",
      "Wall time: 1min 1s\n"
     ]
    }
   ],
   "source": [
    "%%time\n",
    "normal_cascades, normal_times = remove_duplicates(cascade_nodes=nodes, cascade_times=timestamps)\n",
    "\n",
    "\n",
    "# Example output:\n",
    "# CPU times: user 1min 1s, sys: 349 ms, total: 1min 1s\n",
    "# Wall time: 1min 2s\n"
   ]
  },
  {
   "cell_type": "code",
   "execution_count": 9,
   "id": "b59d920a",
   "metadata": {},
   "outputs": [
    {
     "name": "stdout",
     "output_type": "stream",
     "text": [
      "CPU times: user 6.75 ms, sys: 2.02 ms, total: 8.77 ms\n",
      "Wall time: 13.8 ms\n"
     ]
    }
   ],
   "source": [
    "%%time\n",
    "fast_cascades, fast_times = remove_duplicates_fast(cascade_nodes=nodes, cascade_times=timestamps)\n",
    "assert normal_cascades == fast_cascades # assert for correctness\n",
    "assert normal_times == fast_times  # assert for correctness\n",
    "\n",
    "# Example output:\n",
    "# CPU times: user 6.91 ms, sys: 751 µs, total: 7.66 ms\n",
    "# Wall time: 10.6 ms\n"
   ]
  },
  {
   "cell_type": "code",
   "execution_count": 10,
   "id": "52f65f3b",
   "metadata": {},
   "outputs": [
    {
     "name": "stdout",
     "output_type": "stream",
     "text": [
      "CPU times: user 16.1 ms, sys: 2.74 ms, total: 18.9 ms\n",
      "Wall time: 27.9 ms\n"
     ]
    }
   ],
   "source": [
    "%%time\n",
    "dc_cascades, dc_times = divide_conquer_remove_duplicates(cascade_nodes=nodes, cascade_times=timestamps)\n",
    "assert normal_cascades == dc_cascades  # assert for correctness\n",
    "assert normal_times == dc_times  # assert for correctness\n",
    "\n",
    "# Example output:\n",
    "# CPU times: user 16.1 ms, sys: 2.74 ms, total: 18.9 ms\n",
    "# Wall time: 27.9 ms"
   ]
  },
  {
   "cell_type": "markdown",
   "id": "81a21281",
   "metadata": {},
   "source": [
    "### Comparing between fast and divide and conquer approaches"
   ]
  },
  {
   "cell_type": "code",
   "execution_count": 11,
   "id": "24c6a1c5",
   "metadata": {},
   "outputs": [
    {
     "name": "stdout",
     "output_type": "stream",
     "text": [
      "10000000 10000000\n",
      "CPU times: user 10.6 s, sys: 193 ms, total: 10.8 s\n",
      "Wall time: 10.9 s\n"
     ]
    }
   ],
   "source": [
    "%%time\n",
    "# Example usage (assuming start_time and end_time are defined as datetime objects)\n",
    "N_big = 10000000\n",
    "today = datetime.today()\n",
    "one_year_ago = today - timedelta(days=365)\n",
    "\n",
    "nodes_big = generate_number_list(N_big, 3, 7)\n",
    "timestamps_big = generate_timestamp_list(N_big, start_time=one_year_ago, end_time=today)\n",
    "\n",
    "print(len(timestamps_big), len(nodes_big))"
   ]
  },
  {
   "cell_type": "code",
   "execution_count": 12,
   "id": "134dd13c",
   "metadata": {},
   "outputs": [
    {
     "name": "stdout",
     "output_type": "stream",
     "text": [
      "CPU times: user 262 ms, sys: 35.6 ms, total: 298 ms\n",
      "Wall time: 300 ms\n"
     ]
    }
   ],
   "source": [
    "%%time\n",
    "fast_cascades, fast_times = remove_duplicates_fast(cascade_nodes=nodes_big, cascade_times=timestamps_big)\n"
   ]
  },
  {
   "cell_type": "code",
   "execution_count": 13,
   "id": "d058b676",
   "metadata": {},
   "outputs": [
    {
     "name": "stdout",
     "output_type": "stream",
     "text": [
      "CPU times: user 1.27 s, sys: 183 ms, total: 1.45 s\n",
      "Wall time: 1.46 s\n"
     ]
    },
    {
     "data": {
      "text/plain": [
       "([3, 4, 7, 5, 6],\n",
       " [datetime.datetime(2023, 8, 1, 3, 36, 14, 850631),\n",
       "  datetime.datetime(2023, 10, 12, 10, 20, 14, 850631),\n",
       "  datetime.datetime(2023, 8, 16, 6, 36, 57, 850631),\n",
       "  datetime.datetime(2023, 4, 4, 14, 13, 4, 850631),\n",
       "  datetime.datetime(2023, 5, 27, 0, 44, 27, 850631)])"
      ]
     },
     "execution_count": 13,
     "metadata": {},
     "output_type": "execute_result"
    }
   ],
   "source": [
    "%%time\n",
    "divide_conquer_remove_duplicates(cascade_nodes=nodes_big, cascade_times=timestamps_big)"
   ]
  },
  {
   "cell_type": "markdown",
   "id": "6629b669",
   "metadata": {},
   "source": [
    "# Optimizing mapped_uid"
   ]
  },
  {
   "cell_type": "code",
   "execution_count": 15,
   "id": "91effcfc",
   "metadata": {},
   "outputs": [],
   "source": [
    "DATA_INIT_PATH = \"data/\""
   ]
  },
  {
   "cell_type": "code",
   "execution_count": 16,
   "id": "6d5c979c",
   "metadata": {},
   "outputs": [],
   "source": [
    "def mapped_uid():\n",
    "    \"\"\"\n",
    "    Summary:\n",
    "    Establishes a mapping between user ID and their index in the file\n",
    "\n",
    "    Return:\n",
    "    Dictionary with user ID as key and index as value\n",
    "    \n",
    "    This implementation is from the fair_at_scale repo.\n",
    "    \"\"\"\n",
    "    file_path = DATA_INIT_PATH + \"uidlist.txt\"\n",
    "    with open(file_path, \"r\", encoding=\"gbk\") as f:\n",
    "        lines_uid = f.readlines()\n",
    "\n",
    "    uid_map = {}\n",
    "    for idx, uid in enumerate(lines_uid):\n",
    "        uid_map[uid.strip()] = idx\n",
    "\n",
    "    return uid_map\n",
    "\n",
    "def mapped_uid_fast():\n",
    "    \"\"\"\n",
    "    Summary:\n",
    "    Establishes a mapping between user ID and their index in the file\n",
    "\n",
    "    Return:\n",
    "    Dictionary with user ID as key and index as value\n",
    "    \n",
    "    This is optimized by creating a dictionary in place and iterating through the file lines instead of reading it first.\n",
    "    \"\"\"\n",
    "    file_path = DATA_INIT_PATH + \"uidlist.txt\"\n",
    "    with open(file_path, \"r\", encoding=\"gbk\") as f:\n",
    "        uid_map = {uid.strip(): idx for idx, uid in enumerate(f)}\n",
    "\n",
    "    return uid_map\n"
   ]
  },
  {
   "cell_type": "code",
   "execution_count": 65,
   "id": "f8327e06",
   "metadata": {},
   "outputs": [],
   "source": [
    "import time\n",
    "import matplotlib.pyplot as plt\n",
    "import numpy as np\n",
    "\n",
    "def run_func_N_times(func, func_name, N=10):\n",
    "    # List to store execution times\n",
    "    times = []\n",
    "    num_runs = 10  # Number of times to run the function\n",
    "\n",
    "    for _ in range(num_runs):\n",
    "        start_time = time.time()\n",
    "        normal_contents = func()\n",
    "        end_time = time.time()\n",
    "        times.append(end_time - start_time)\n",
    "\n",
    "    # Calculate average time\n",
    "    average_time = sum(times) / len(times)\n",
    "\n",
    "    plot_times(y_arr=times,func_name=func_name)\n",
    "    \n",
    "def plot_times(y_arr, func_name):\n",
    "    # Create the histogram\n",
    "    plt.figure(figsize=(10, 6))\n",
    "    plt.hist(y_arr, bins=100, edgecolor='black', range=(0,1))  # Adjust bins as needed\n",
    "    plt.xlabel(\"Execution Time (seconds)\")\n",
    "    plt.ylabel(\"Frequency\")\n",
    "    plt.title(f\"Distribution of Execution Time for {func_name}()\")\n",
    "\n",
    "    # Add a red line for the average time\n",
    "    average_time = np.mean(y_arr)\n",
    "    plt.axvline(x=average_time, color='r', linestyle='dashed', linewidth=2, label=f\"Average: {average_time:.4f}s\")\n",
    "    plt.legend()\n",
    "\n",
    "    # Show the plot\n",
    "    plt.show()"
   ]
  },
  {
   "cell_type": "code",
   "execution_count": 66,
   "id": "91072657",
   "metadata": {},
   "outputs": [
    {
     "data": {
      "image/png": "[encoded data removed]",
      "text/plain": [
       "<Figure size 1000x600 with 1 Axes>"
      ]
     },
     "metadata": {},
     "output_type": "display_data"
    }
   ],
   "source": [
    "run_func_N_times(mapped_uid, \"mapped_uid\", N=1000)"
   ]
  },
  {
   "cell_type": "code",
   "execution_count": 67,
   "id": "a8b1c00a",
   "metadata": {},
   "outputs": [
    {
     "data": {
      "image/png": "[encoded data removed]",
      "text/plain": [
       "<Figure size 1000x600 with 1 Axes>"
      ]
     },
     "metadata": {},
     "output_type": "display_data"
    }
   ],
   "source": [
    "run_func_N_times(mapped_uid_fast, \"mapped_uid_fast\", N=1000)"
   ]
  },
  {
   "cell_type": "markdown",
   "id": "c8bf6661",
   "metadata": {},
   "source": [
    "# Optimizing `compute_fair` "
   ]
  },
  {
   "cell_type": "code",
   "execution_count": 264,
   "id": "13090a13",
   "metadata": {},
   "outputs": [
    {
     "name": "stdout",
     "output_type": "stream",
     "text": [
      "CPU times: user 668 ms, sys: 184 ms, total: 852 ms\n",
      "Wall time: 854 ms\n"
     ]
    }
   ],
   "source": [
    "%%time\n",
    "import json\n",
    "from collections import defaultdict\n",
    "\n",
    "INPUT_FN = \"weibo\"\n",
    "DATE_CUTOFF = \"2011-10-28\"\n",
    "TRAIN_CASCADES_SMALL = \"data/train_cascades_small.txt\"\n",
    "TRAIN_CASCADES =  \"data/train_cascades.txt\"\n",
    "with open(\"data/attr_users_dict_Full-attempt_2024-03-12.json\", \"r\") as saud_f, open(\"data/user_attribute_dict_Full-attempt_2024-03-12.json\", \"r\") as suad_f:\n",
    "#     loaded_attr_users_dict = json.load(saud_f)\n",
    "#     loaded_user_attribute_dict = json.load(suad_f)\n",
    "    attr_users_dict = json.load(saud_f)\n",
    "    user_attribute_dict = json.load(suad_f)\n",
    "# attr_users_dict = defaultdict(list)\n",
    "# for key, value in loaded_attr_users_dict.items():\n",
    "#     attr_users_dict[key] = value\n",
    "\n",
    "# user_attribute_dict = defaultdict(list)\n",
    "# for key, value in loaded_user_attribute_dict.items():\n",
    "#     user_attribute_dict[key] = value\n",
    "# user_attribute_dict = defaultdict(list)\n",
    "\n",
    "with open(TRAIN_CASCADES, \"r\") as f:\n",
    "    train_cascades_content = f.readlines()\n",
    "\n",
    "LOG_EVERY = 10000\n",
    "\n"
   ]
  },
  {
   "cell_type": "markdown",
   "id": "bde49d2e",
   "metadata": {},
   "source": [
    "## Original implementation from fair_at_scale repo"
   ]
  },
  {
   "cell_type": "code",
   "execution_count": 265,
   "id": "eb0a5c2e",
   "metadata": {},
   "outputs": [],
   "source": [
    "from collections import defaultdict\n",
    "import math\n",
    "\n",
    "def compute_coef(influenced_ratio, log=False):\n",
    "    \"\"\"\n",
    "    Summary: computes fairness for an influenced ratio\n",
    "\n",
    "    Return: fairness score\n",
    "    \"\"\"\n",
    "    sigma = np.std(influenced_ratio, dtype=np.float64)\n",
    "    mean = np.mean(influenced_ratio)\n",
    "    # calculate coefficient of variation of influenced ratio\n",
    "    coef = sigma/mean\n",
    "    # scale to 0-1 with sigmoid\n",
    "    sigmoid = 1 / (1 + math.e ** -coef)\n",
    "    # return fairness score (this seems to be modified compared to the paper)\n",
    "    f_score = 2 * (1-sigmoid)\n",
    "    if log:\n",
    "        print(f\"\\tsigma={sigma} ; mean={mean} ; count={len(influenced_ratio)} ; coef={coef} ; sigmoid={sigmoid} ; f_score={f_score}\")\n",
    "    return  f_score\n",
    "\n",
    "\n",
    "def compute_fair(node_list, user_attribute_dict, attribute_user_agg_dict, attribute='gender', log=False):\n",
    "    \"\"\"\n",
    "    Summary:\n",
    "    1. Computes influenced ratio\n",
    "    2. Computes fairness score\n",
    "\n",
    "    Input:\n",
    "    1. node_list: list of nodes in the cascade\n",
    "    2. user_attribute_dict: user to attribute dict (key = uid, val = M/F)\n",
    "    3. attribute_user_agg_dict: statistics of attribute dict -\n",
    "        - example: How many males in user_attribute_dict?\n",
    "        - key = attribute (M/F), val = list of uids\n",
    "    4. attribute: attribute in consideration, say gender\n",
    "\n",
    "    Return:\n",
    "    Fairness score\n",
    "    \"\"\"\n",
    "\n",
    "    # special case: hardcoded values for province feature in weibo\n",
    "    if attribute == 'province':\n",
    "        min_f = 0.00537\n",
    "        # coefficient of scaling get from distribution\n",
    "        # [0.5,1] a=0.5, b=1, k = (b-a)/(max(score)-min(score))\n",
    "        k = 0.566\n",
    "        # 0.5 min scaling border\n",
    "        score = 0.5 + k * (score-min_f)\n",
    "        return score\n",
    "\n",
    "    # intersection of the cascade and the attribute dict\n",
    "    # example: how many M/F were influenced in the cascade\n",
    "    # influenced_attribute_dict = {k: user_attribute_dict[k]\n",
    "    #                              for k in node_list\n",
    "    #                              if k in user_attribute_dict}\n",
    "    # influenced statistics\n",
    "    # Edit from Justin: int(k) is needed bc loading the keys from attributes dict are strings.\n",
    "    \n",
    "    influenced_attribute_dict = {k: user_attribute_dict[k] for k in node_list}\n",
    "    T_grouped = defaultdict(list)\n",
    "    for k, v in influenced_attribute_dict.items():\n",
    "        T_grouped[str(v)].append(k)\n",
    "    ratio = [len(T_grouped[k]) / len(attribute_user_agg_dict[k]) for k in attribute_user_agg_dict.keys()]\n",
    "    \n",
    "    if log:\n",
    "        for k in attribute_user_agg_dict.keys():\n",
    "            print(f\"\\tlen(T_grouped[{k}])={len(T_grouped[k])} ; len(attribute_user_agg_dict[{k}])={len(attribute_user_agg_dict[k])}\")\n",
    "        print(f\"\\t@compute_fair node_list={node_list[:5]}\")\n",
    "#         print(f\"\\t@compute_fair T_grouped={T_grouped}\")\n",
    "\n",
    "    # influenced_user_agg_dict = defaultdict(list)\n",
    "\n",
    "    # for k, v in influenced_attribute_dict.items():\n",
    "    #     influenced_user_agg_dict[v].append(k)\n",
    "\n",
    "    # influenced ratio for all categories in a dimension\n",
    "    # this will be a list of ratios for say gender [ratio_m, ratio_f]\n",
    "    # ratio = np.array([len(influenced_user_agg_dict[k]) /\n",
    "    #          len(attribute_user_agg_dict[k]) for k in attribute_user_agg_dict.keys()])\n",
    "    if log:\n",
    "        print(f\"\\t@compute_fair ratio={ratio}\")\n",
    "\n",
    "    # compute fairness score\n",
    "    return compute_coef(ratio, log=log)"
   ]
  },
  {
   "cell_type": "markdown",
   "id": "c7f8ffb6",
   "metadata": {},
   "source": [
    "### Timing Original"
   ]
  },
  {
   "cell_type": "code",
   "execution_count": 266,
   "id": "87f2a241",
   "metadata": {
    "scrolled": true
   },
   "outputs": [
    {
     "name": "stdout",
     "output_type": "stream",
     "text": [
      "cascade length:  4 1 1500872\n",
      "0 Skipping cascade bc len=1\n",
      "cascade length:  15 14 93783\n",
      "10000 cascade length=14\n",
      "\tlen(T_grouped[1])=0 ; len(attribute_user_agg_dict[1])=772630\n",
      "\tlen(T_grouped[0])=13 ; len(attribute_user_agg_dict[0])=883048\n",
      "\t@compute_fair node_list=['1581891', '1226523', '741011', '17286', '1607076']\n",
      "\t@compute_fair ratio=[0.0, 1.4721736530743516e-05]\n",
      "\tsigma=7.360868265371758e-06 ; mean=7.360868265371758e-06 ; count=2 ; coef=1.0 ; sigmoid=0.7310585786300049 ; f_score=0.5378828427399902\n",
      "\f",
      "remove_dup: 0.0001227855682373047s - compute_fair time: 0.00011491775512695312s - f_score: 0.5378828427399902\n",
      "cascade length:  12 10 86408\n",
      "20000 cascade length=10\n",
      "\tlen(T_grouped[1])=5 ; len(attribute_user_agg_dict[1])=772630\n",
      "\tlen(T_grouped[0])=4 ; len(attribute_user_agg_dict[0])=883048\n",
      "\t@compute_fair node_list=['428256', '80768', '301389', '839372', '660371']\n",
      "\t@compute_fair ratio=[6.471402870714313e-06, 4.52976508638262e-06]\n",
      "\tsigma=9.708188921658465e-07 ; mean=5.500583978548466e-06 ; count=2 ; coef=0.17649378610560423 ; sigmoid=0.5440092648685783 ; f_score=0.9119814702628435\n",
      "\f",
      "remove_dup: 7.915496826171875e-05s - compute_fair time: 4.982948303222656e-05s - f_score: 0.9119814702628435\n",
      "cascade length:  207 194 999440\n",
      "30000 cascade length=194\n",
      "\tlen(T_grouped[1])=162 ; len(attribute_user_agg_dict[1])=772630\n",
      "\tlen(T_grouped[0])=31 ; len(attribute_user_agg_dict[0])=883048\n",
      "\t@compute_fair node_list=['96581', '735652', '820757', '1466115', '46070']\n",
      "\t@compute_fair ratio=[0.00020967345301114374, 3.5105679419465306e-05]\n",
      "\tsigma=8.728388679583922e-05 ; mean=0.00012238956621530452 ; count=2 ; coef=0.7131644428111763 ; sigmoid=0.6711000085733909 ; f_score=0.6577999828532182\n",
      "\f",
      "remove_dup: 0.00011086463928222656s - compute_fair time: 0.0001480579376220703s - f_score: 0.6577999828532182\n",
      "cascade length:  42 40 95350\n",
      "40000 cascade length=40\n",
      "\tlen(T_grouped[1])=14 ; len(attribute_user_agg_dict[1])=772630\n",
      "\tlen(T_grouped[0])=25 ; len(attribute_user_agg_dict[0])=883048\n",
      "\t@compute_fair node_list=['1777801', '422066', '1500769', '1171467', '1051841']\n",
      "\t@compute_fair ratio=[1.811992803800008e-05, 2.8311031789891375e-05]\n",
      "\tsigma=5.095551875945648e-06 ; mean=2.321547991394573e-05 ; count=2 ; coef=0.2194894051225152 ; sigmoid=0.5546531150380385 ; f_score=0.890693769923923\n",
      "\f",
      "remove_dup: 9.107589721679688e-05s - compute_fair time: 6.890296936035156e-05s - f_score: 0.890693769923923\n",
      "cascade length:  3 1 1501037\n",
      "50000 Skipping cascade bc len=1\n",
      "cascade length:  4 1 396\n",
      "60000 Skipping cascade bc len=1\n",
      "cascade length:  14 12 899529\n",
      "70000 cascade length=12\n",
      "\tlen(T_grouped[1])=1 ; len(attribute_user_agg_dict[1])=772630\n",
      "\tlen(T_grouped[0])=10 ; len(attribute_user_agg_dict[0])=883048\n",
      "\t@compute_fair node_list=['1677817', '1201420', '1448326', '1445760', '1449468']\n",
      "\t@compute_fair ratio=[1.2942805741428628e-06, 1.1324412715956551e-05]\n",
      "\tsigma=5.015066070906844e-06 ; mean=6.309346645049707e-06 ; count=2 ; coef=0.7948629791710127 ; sigmoid=0.688874551555477 ; f_score=0.6222508968890459\n",
      "\f",
      "remove_dup: 7.987022399902344e-05s - compute_fair time: 5.412101745605469e-05s - f_score: 0.6222508968890459\n",
      "cascade length:  14 13 901356\n",
      "80000 cascade length=13\n",
      "\tlen(T_grouped[1])=11 ; len(attribute_user_agg_dict[1])=772630\n",
      "\tlen(T_grouped[0])=1 ; len(attribute_user_agg_dict[0])=883048\n",
      "\t@compute_fair node_list=['114344', '1262321', '721726', '331072', '1046334']\n",
      "\t@compute_fair ratio=[1.4237086315571489e-05, 1.132441271595655e-06]\n",
      "\tsigma=6.552322521987917e-06 ; mean=7.684763793583573e-06 ; count=2 ; coef=0.8526381158857228 ; sigmoid=0.7011202545033205 ; f_score=0.597759490993359\n",
      "\f",
      "remove_dup: 7.677078247070312e-05s - compute_fair time: 5.125999450683594e-05s - f_score: 0.597759490993359\n",
      "cascade length:  3 2 2639\n",
      "90000 Skipping cascade bc len=2\n"
     ]
    },
    {
     "data": {
      "image/png": "[encoded data removed]",
      "text/plain": [
       "<Figure size 1000x600 with 1 Axes>"
      ]
     },
     "metadata": {},
     "output_type": "display_data"
    }
   ],
   "source": [
    "import time\n",
    "from datetime import datetime\n",
    "\n",
    "time_taken_to_remove_duplicates = []\n",
    "time_taken_to_compute_fair = []\n",
    "\n",
    "for idx, line in enumerate(train_cascades_content):\n",
    "    log = idx % LOG_EVERY == 0\n",
    "    cascade = line.replace(\"\\n\", \"\").split(\";\")\n",
    "    \n",
    "    if INPUT_FN == 'weibo':\n",
    "        # we take cascade[1:] because 0th index is invalid\n",
    "\n",
    "        # find nodes in a cascade\n",
    "        cascade_nodes = list(map(lambda x: x.split(\" \")[0], cascade[1:]))\n",
    "        # find seconds elapsed since cutoff time for message to reach the cascade nodes\n",
    "        cascade_times = list(map(lambda x:\n",
    "                                int(((datetime.strptime(x.replace(\"\\r\", \"\").split(\" \")[1], '%Y-%m-%d-%H:%M:%S') -\n",
    "                                      datetime.strptime(DATE_CUTOFF, \"%Y-%m-%d\")).total_seconds())), cascade[1:]))\n",
    "    else:\n",
    "        cascade_nodes = list(map(lambda x:  x.split(\" \")[0], cascade))\n",
    "        cascade_times = list(map(lambda x:  int(x.replace(\"\\r\", \"\").split(\" \")[1]), cascade))\n",
    "\n",
    "    # remove duplicates\n",
    "    start_time = time.time()\n",
    "    \n",
    "#     cascade_nodes, cascade_times = remove_duplicates(cascade_nodes, cascade_times)\n",
    "    cascade_nodes, cascade_times = remove_duplicates_fast(cascade_nodes, cascade_times)\n",
    "    if log:\n",
    "        print(\"cascade length: \", len(cascade), len(cascade_nodes), max(cascade_nodes))\n",
    "    mid_time = time.time()\n",
    "    \n",
    "    if len(cascade_nodes) < 3:\n",
    "        if log:\n",
    "            print(f\"{idx} Skipping cascade bc len={len(cascade_nodes)}\")\n",
    "        continue\n",
    "    else:\n",
    "        if log:\n",
    "            print(f\"{idx} cascade length={len(cascade_nodes)}\")\n",
    "\n",
    "    f_score = compute_fair(cascade_nodes[1:],\n",
    "                           user_attribute_dict=user_attribute_dict,\n",
    "                           attribute_user_agg_dict=attr_users_dict,\n",
    "                           attribute=\"gender\", log=log)\n",
    "    # old implemntation from fair_at_scale\n",
    "#     f_score = compute_fair(cascade_nodes,\n",
    "#                            attribute_dict=user_attribute_dict,\n",
    "#                            grouped=attribute_grouped,\n",
    "#                            attribute=\"gender\")\n",
    "    \n",
    "    end_time = time.time()\n",
    "    \n",
    "    time_taken_to_remove_duplicates.append(mid_time-start_time)\n",
    "    time_taken_to_compute_fair.append(end_time - mid_time)\n",
    "    if log:\n",
    "        print(f\"\\fremove_dup: {mid_time-start_time}s - compute_fair time: {end_time - mid_time}s - f_score: {f_score}\")\n",
    "    \n",
    "plot_times(time_taken_to_compute_fair, \"time_taken_to_compute_fair\")"
   ]
  },
  {
   "cell_type": "markdown",
   "id": "cd92740c",
   "metadata": {},
   "source": [
    "## Optimized version with vectorizing\n",
    "\n",
    "TODO: figure out how to load the full `user_attribute_dict` and `attr_users_dict`"
   ]
  },
  {
   "cell_type": "code",
   "execution_count": 267,
   "id": "505393dc",
   "metadata": {},
   "outputs": [],
   "source": [
    "import numpy as np\n",
    "from math import exp\n",
    "\n",
    "\n",
    "def compute_coef_vec(influenced_ratio, log=False):\n",
    "    \"\"\"\n",
    "    Summary: computes fairness for an influenced ratio\n",
    "\n",
    "    Return: fairness score\n",
    "    \"\"\"\n",
    "    # Calculate standard deviation and mean efficiently using vectorized operations\n",
    "    sigma = np.std(influenced_ratio, dtype=np.float64)\n",
    "    mean = np.mean(influenced_ratio)\n",
    "\n",
    "    # Avoid division by zero with np.where\n",
    "    coef = np.where(mean == 0, 0, sigma / mean)\n",
    "\n",
    "    # Efficient sigmoid calculation with vectorization\n",
    "    sigmoid = 1 / (1 + math.e ** -coef)\n",
    "    if log:\n",
    "        print(f\"\\tsigma={sigma}, mean={mean}, coef={coef}, sigmoid={sigmoid}\")\n",
    "    # Return fairness score (this seems to be modified compared to the paper)\n",
    "    return 2 * (1 - sigmoid)\n",
    "\n",
    "\n",
    "def compute_fair_vec(node_list, user_attribute_dict, attribute_user_agg_dict, attribute='gender', log=False):\n",
    "    \"\"\"\n",
    "    Summary:\n",
    "    1. Computes influenced ratio\n",
    "    2. Computes fairness score\n",
    "\n",
    "    Input:\n",
    "    1. node_list: list of nodes in the cascade\n",
    "    2. user_attribute_dict: user to attribute dict (key = uid, val = M/F)\n",
    "    3. attribute_user_agg_dict: statistics of attribute dict -\n",
    "        - example: How many males in user_attribute_dict?\n",
    "        - key = attribute (M/F), val = list of uids\n",
    "    4. attribute: attribute in consideration, say gender\n",
    "\n",
    "    Return:\n",
    "    Fairness score\n",
    "    \"\"\"\n",
    "\n",
    "    # special case: hardcoded values for province feature in weibo\n",
    "    if attribute == 'province':\n",
    "        min_f = 0.00537\n",
    "        # coefficient of scaling get from distribution\n",
    "        # [0.5,1] a=0.5, b=1, k = (b-a)/(max(score)-min(score))\n",
    "        k = 0.566\n",
    "        # 0.5 min scaling border\n",
    "        score = 0.5 + k * (score-min_f)\n",
    "        return score\n",
    "\n",
    "    # intersection of the cascade and the attribute dict\n",
    "    # example: how many M/F were influenced in the cascade\n",
    "    influenced_attribute_dict = defaultdict(int)\n",
    "    for k in node_list:\n",
    "        influenced_attribute_dict[str(user_attribute_dict[k])] +=1\n",
    "        \n",
    "    # influenced ratio for all categories in a dimension\n",
    "    # this will be a list of ratios for say gender [ratio_m, ratio_f]\n",
    "    ratio = np.array([influenced_attribute_dict[k] / len(attribute_user_agg_dict.get(k, [])) for k in attribute_user_agg_dict.keys()])\n",
    "\n",
    "    if log:\n",
    "        for k in attribute_user_agg_dict.keys():\n",
    "            print(f\"\\ttype(k)={type(k)} --> len(influenced_attribute_dict[{k}])={influenced_attribute_dict.get(k)} ; len(attribute_user_agg_dict[{k}])={len(attribute_user_agg_dict.get(k, []))}\")\n",
    "        print(f\"\\t@compute_fair node_list={node_list[:5]}\")\n",
    "        print(f\"\\t@compute_fair ratio={ratio}\")\n",
    "        \n",
    "    return compute_coef_vec(ratio,log=log)\n"
   ]
  },
  {
   "cell_type": "code",
   "execution_count": 268,
   "id": "c8598811",
   "metadata": {
    "scrolled": false
   },
   "outputs": [
    {
     "name": "stdout",
     "output_type": "stream",
     "text": [
      "cascade length:  4 1 1500872\n",
      "0 Skipping cascade bc len=1\n",
      "cascade length:  15 14 93783\n",
      "10000 cascade length=14\n",
      "\ttype(k)=<class 'str'> --> len(influenced_attribute_dict[1])=0 ; len(attribute_user_agg_dict[1])=772630\n",
      "\ttype(k)=<class 'str'> --> len(influenced_attribute_dict[0])=13 ; len(attribute_user_agg_dict[0])=883048\n",
      "\t@compute_fair node_list=['1581891', '1226523', '741011', '17286', '1607076']\n",
      "\t@compute_fair ratio=[0.00000000e+00 1.47217365e-05]\n",
      "\tsigma=7.360868265371758e-06, mean=7.360868265371758e-06, coef=1.0, sigmoid=0.7310585786300049\n",
      "\tremove_dup: 8.606910705566406e-05s - compute_fair time: 0.00015497207641601562s - f_score: 0.5378828427399902\n",
      "cascade length:  12 10 86408\n",
      "20000 cascade length=10\n",
      "\ttype(k)=<class 'str'> --> len(influenced_attribute_dict[1])=5 ; len(attribute_user_agg_dict[1])=772630\n",
      "\ttype(k)=<class 'str'> --> len(influenced_attribute_dict[0])=4 ; len(attribute_user_agg_dict[0])=883048\n",
      "\t@compute_fair node_list=['428256', '80768', '301389', '839372', '660371']\n",
      "\t@compute_fair ratio=[6.47140287e-06 4.52976509e-06]\n",
      "\tsigma=9.708188921658465e-07, mean=5.500583978548466e-06, coef=0.17649378610560423, sigmoid=0.5440092648685783\n",
      "\tremove_dup: 0.00018715858459472656s - compute_fair time: 0.00018167495727539062s - f_score: 0.9119814702628435\n",
      "cascade length:  207 194 999440\n",
      "30000 cascade length=194\n",
      "\ttype(k)=<class 'str'> --> len(influenced_attribute_dict[1])=162 ; len(attribute_user_agg_dict[1])=772630\n",
      "\ttype(k)=<class 'str'> --> len(influenced_attribute_dict[0])=31 ; len(attribute_user_agg_dict[0])=883048\n",
      "\t@compute_fair node_list=['96581', '735652', '820757', '1466115', '46070']\n",
      "\t@compute_fair ratio=[2.09673453e-04 3.51056794e-05]\n",
      "\tsigma=8.728388679583922e-05, mean=0.00012238956621530452, coef=0.7131644428111763, sigmoid=0.6711000085733909\n",
      "\tremove_dup: 0.00011181831359863281s - compute_fair time: 0.0002532005310058594s - f_score: 0.6577999828532182\n",
      "cascade length:  42 40 95350\n",
      "40000 cascade length=40\n",
      "\ttype(k)=<class 'str'> --> len(influenced_attribute_dict[1])=14 ; len(attribute_user_agg_dict[1])=772630\n",
      "\ttype(k)=<class 'str'> --> len(influenced_attribute_dict[0])=25 ; len(attribute_user_agg_dict[0])=883048\n",
      "\t@compute_fair node_list=['1777801', '422066', '1500769', '1171467', '1051841']\n",
      "\t@compute_fair ratio=[1.81199280e-05 2.83110318e-05]\n",
      "\tsigma=5.095551875945648e-06, mean=2.321547991394573e-05, coef=0.2194894051225152, sigmoid=0.5546531150380385\n",
      "\tremove_dup: 8.20159912109375e-05s - compute_fair time: 0.00014829635620117188s - f_score: 0.890693769923923\n",
      "cascade length:  3 1 1501037\n",
      "50000 Skipping cascade bc len=1\n",
      "cascade length:  4 1 396\n",
      "60000 Skipping cascade bc len=1\n",
      "cascade length:  14 12 899529\n",
      "70000 cascade length=12\n",
      "\ttype(k)=<class 'str'> --> len(influenced_attribute_dict[1])=1 ; len(attribute_user_agg_dict[1])=772630\n",
      "\ttype(k)=<class 'str'> --> len(influenced_attribute_dict[0])=10 ; len(attribute_user_agg_dict[0])=883048\n",
      "\t@compute_fair node_list=['1677817', '1201420', '1448326', '1445760', '1449468']\n",
      "\t@compute_fair ratio=[1.29428057e-06 1.13244127e-05]\n",
      "\tsigma=5.015066070906844e-06, mean=6.309346645049707e-06, coef=0.7948629791710127, sigmoid=0.688874551555477\n",
      "\tremove_dup: 9.012222290039062e-05s - compute_fair time: 0.0001418590545654297s - f_score: 0.6222508968890459\n",
      "cascade length:  14 13 901356\n",
      "80000 cascade length=13\n",
      "\ttype(k)=<class 'str'> --> len(influenced_attribute_dict[1])=11 ; len(attribute_user_agg_dict[1])=772630\n",
      "\ttype(k)=<class 'str'> --> len(influenced_attribute_dict[0])=1 ; len(attribute_user_agg_dict[0])=883048\n",
      "\t@compute_fair node_list=['114344', '1262321', '721726', '331072', '1046334']\n",
      "\t@compute_fair ratio=[1.42370863e-05 1.13244127e-06]\n",
      "\tsigma=6.552322521987917e-06, mean=7.684763793583573e-06, coef=0.8526381158857228, sigmoid=0.7011202545033205\n",
      "\tremove_dup: 8.0108642578125e-05s - compute_fair time: 0.0001468658447265625s - f_score: 0.597759490993359\n",
      "cascade length:  3 2 2639\n",
      "90000 Skipping cascade bc len=2\n"
     ]
    },
    {
     "data": {
      "image/png": "[encoded data removed]",
      "text/plain": [
       "<Figure size 1000x600 with 1 Axes>"
      ]
     },
     "metadata": {},
     "output_type": "display_data"
    }
   ],
   "source": [
    "import time\n",
    "from datetime import datetime\n",
    "\n",
    "time_taken_to_remove_duplicates = []\n",
    "time_taken_to_compute_fair = []\n",
    "\n",
    "for idx, line in enumerate(train_cascades_content):\n",
    "    log = idx % LOG_EVERY == 0\n",
    "    cascade = line.replace(\"\\n\", \"\").split(\";\")\n",
    "    \n",
    "    if INPUT_FN == 'weibo':\n",
    "        # we take cascade[1:] because 0th index is invalid\n",
    "\n",
    "        # find nodes in a cascade\n",
    "        cascade_nodes = list(map(lambda x: x.split(\" \")[0], cascade[1:]))\n",
    "        # find seconds elapsed since cutoff time for message to reach the cascade nodes\n",
    "        cascade_times = list(map(lambda x:\n",
    "                                int(((datetime.strptime(x.replace(\"\\r\", \"\").split(\" \")[1], '%Y-%m-%d-%H:%M:%S') -\n",
    "                                      datetime.strptime(DATE_CUTOFF, \"%Y-%m-%d\")).total_seconds())), cascade[1:]))\n",
    "    else:\n",
    "        cascade_nodes = list(map(lambda x:  x.split(\" \")[0], cascade))\n",
    "        cascade_times = list(map(lambda x:  int(x.replace(\"\\r\", \"\").split(\" \")[1]), cascade))\n",
    "\n",
    "    # remove duplicates\n",
    "    start_time = time.time()\n",
    "    \n",
    "#     cascade_nodes, cascade_times = remove_duplicates(cascade_nodes, cascade_times)\n",
    "    cascade_nodes, cascade_times = remove_duplicates_fast(cascade_nodes, cascade_times)\n",
    "    if log:\n",
    "        print(\"cascade length: \", len(cascade), len(cascade_nodes), max(cascade_nodes))\n",
    "    mid_time = time.time()\n",
    "    \n",
    "    if len(cascade_nodes) < 3:\n",
    "        if log:\n",
    "            print(f\"{idx} Skipping cascade bc len={len(cascade_nodes)}\")\n",
    "        continue\n",
    "    else:\n",
    "        if log:\n",
    "            print(f\"{idx} cascade length={len(cascade_nodes)}\")\n",
    "\n",
    "    f_score = compute_fair_vec(cascade_nodes[1:],\n",
    "                           user_attribute_dict=user_attribute_dict,\n",
    "                           attribute_user_agg_dict=attr_users_dict,\n",
    "                           attribute=\"gender\", log=log)\n",
    "    # old implemntation from fair_at_scale\n",
    "#     f_score = compute_fair(cascade_nodes,\n",
    "#                            attribute_dict=user_attribute_dict,\n",
    "#                            grouped=attribute_grouped,\n",
    "#                            attribute=\"gender\")\n",
    "    \n",
    "    end_time = time.time()\n",
    "    \n",
    "    time_taken_to_remove_duplicates.append(mid_time-start_time)\n",
    "    time_taken_to_compute_fair.append(end_time - mid_time)\n",
    "    if log:\n",
    "        print(f\"\\tremove_dup: {mid_time-start_time}s - compute_fair time: {end_time - mid_time}s - f_score: {f_score}\")\n",
    "    \n",
    "plot_times(time_taken_to_compute_fair, \"time_taken_to_compute_fair\")"
   ]
  },
  {
   "cell_type": "markdown",
   "id": "0ca1ef7b",
   "metadata": {},
   "source": [
    "### Analyzing node_features"
   ]
  },
  {
   "cell_type": "code",
   "execution_count": 122,
   "id": "79c6dfd9",
   "metadata": {},
   "outputs": [],
   "source": [
    "import pandas as pd\n",
    "\n",
    "node_features_small_df = pd.read_csv(\"data/node_features_small.csv\")"
   ]
  },
  {
   "cell_type": "code",
   "execution_count": 127,
   "id": "5c985fde",
   "metadata": {},
   "outputs": [
    {
     "data": {
      "text/html": [
       "<div>\n",
       "<style scoped>\n",
       "    .dataframe tbody tr th:only-of-type {\n",
       "        vertical-align: middle;\n",
       "    }\n",
       "\n",
       "    .dataframe tbody tr th {\n",
       "        vertical-align: top;\n",
       "    }\n",
       "\n",
       "    .dataframe thead th {\n",
       "        text-align: right;\n",
       "    }\n",
       "</style>\n",
       "<table border=\"1\" class=\"dataframe\">\n",
       "  <thead>\n",
       "    <tr style=\"text-align: right;\">\n",
       "      <th></th>\n",
       "      <th>Node</th>\n",
       "      <th>Kcores</th>\n",
       "      <th>Participated</th>\n",
       "      <th>Avg_Cascade_Size</th>\n",
       "    </tr>\n",
       "  </thead>\n",
       "  <tbody>\n",
       "    <tr>\n",
       "      <th>944</th>\n",
       "      <td>1004172</td>\n",
       "      <td>533</td>\n",
       "      <td>0</td>\n",
       "      <td>33044.0</td>\n",
       "    </tr>\n",
       "    <tr>\n",
       "      <th>39</th>\n",
       "      <td>80510</td>\n",
       "      <td>533</td>\n",
       "      <td>0</td>\n",
       "      <td>31009.0</td>\n",
       "    </tr>\n",
       "    <tr>\n",
       "      <th>26</th>\n",
       "      <td>27326</td>\n",
       "      <td>533</td>\n",
       "      <td>0</td>\n",
       "      <td>30430.0</td>\n",
       "    </tr>\n",
       "    <tr>\n",
       "      <th>73692</th>\n",
       "      <td>464593</td>\n",
       "      <td>462</td>\n",
       "      <td>0</td>\n",
       "      <td>27172.0</td>\n",
       "    </tr>\n",
       "    <tr>\n",
       "      <th>165</th>\n",
       "      <td>828102</td>\n",
       "      <td>533</td>\n",
       "      <td>0</td>\n",
       "      <td>25467.0</td>\n",
       "    </tr>\n",
       "    <tr>\n",
       "      <th>...</th>\n",
       "      <td>...</td>\n",
       "      <td>...</td>\n",
       "      <td>...</td>\n",
       "      <td>...</td>\n",
       "    </tr>\n",
       "    <tr>\n",
       "      <th>1170683</th>\n",
       "      <td>1787054</td>\n",
       "      <td>72</td>\n",
       "      <td>0</td>\n",
       "      <td>NaN</td>\n",
       "    </tr>\n",
       "    <tr>\n",
       "      <th>1170684</th>\n",
       "      <td>1787176</td>\n",
       "      <td>21</td>\n",
       "      <td>0</td>\n",
       "      <td>NaN</td>\n",
       "    </tr>\n",
       "    <tr>\n",
       "      <th>1170685</th>\n",
       "      <td>1787295</td>\n",
       "      <td>40</td>\n",
       "      <td>0</td>\n",
       "      <td>NaN</td>\n",
       "    </tr>\n",
       "    <tr>\n",
       "      <th>1170686</th>\n",
       "      <td>1787334</td>\n",
       "      <td>45</td>\n",
       "      <td>0</td>\n",
       "      <td>NaN</td>\n",
       "    </tr>\n",
       "    <tr>\n",
       "      <th>1170687</th>\n",
       "      <td>1787398</td>\n",
       "      <td>112</td>\n",
       "      <td>0</td>\n",
       "      <td>NaN</td>\n",
       "    </tr>\n",
       "  </tbody>\n",
       "</table>\n",
       "<p>1170688 rows × 4 columns</p>\n",
       "</div>"
      ],
      "text/plain": [
       "            Node  Kcores  Participated  Avg_Cascade_Size\n",
       "944      1004172     533             0           33044.0\n",
       "39         80510     533             0           31009.0\n",
       "26         27326     533             0           30430.0\n",
       "73692     464593     462             0           27172.0\n",
       "165       828102     533             0           25467.0\n",
       "...          ...     ...           ...               ...\n",
       "1170683  1787054      72             0               NaN\n",
       "1170684  1787176      21             0               NaN\n",
       "1170685  1787295      40             0               NaN\n",
       "1170686  1787334      45             0               NaN\n",
       "1170687  1787398     112             0               NaN\n",
       "\n",
       "[1170688 rows x 4 columns]"
      ]
     },
     "execution_count": 127,
     "metadata": {},
     "output_type": "execute_result"
    }
   ],
   "source": [
    "node_features_small_df.sort_values(\"Avg_Cascade_Size\", ascending=False)"
   ]
  },
  {
   "cell_type": "code",
   "execution_count": 147,
   "id": "7aaf350b",
   "metadata": {},
   "outputs": [],
   "source": [
    "def remove_duplicates(cascade_nodes, cascade_times):\n",
    "    \"\"\"\n",
    "    Some tweets have more then one retweets from the same person\n",
    "    Keep only the first retweet of that person\n",
    "    \"\"\"\n",
    "    duplicates = set([x for x in cascade_nodes if cascade_nodes.count(x) > 1])\n",
    "    for d in duplicates:\n",
    "        to_remove = [v for v, b in enumerate(cascade_nodes) if b == d][1:]\n",
    "        print(to_remove)\n",
    "        cascade_nodes = [b for v, b in enumerate(cascade_nodes) if v not in to_remove]\n",
    "        cascade_times = [b for v, b in enumerate(cascade_times) if v not in to_remove]\n",
    "        \n",
    "    return cascade_nodes, cascade_times"
   ]
  },
  {
   "cell_type": "code",
   "execution_count": 148,
   "id": "796e3a24",
   "metadata": {},
   "outputs": [
    {
     "name": "stdout",
     "output_type": "stream",
     "text": [
      "{1}\n",
      "[3]\n"
     ]
    },
    {
     "data": {
      "text/plain": [
       "([1, 2, 3], ['a', 'a', 'a'])"
      ]
     },
     "execution_count": 148,
     "metadata": {},
     "output_type": "execute_result"
    }
   ],
   "source": [
    "remove_duplicates([1,2,3,1], [\"a\"]*4)"
   ]
  },
  {
   "cell_type": "code",
   "execution_count": null,
   "id": "5c19c280",
   "metadata": {},
   "outputs": [],
   "source": []
  }
 ],
 "metadata": {
  "kernelspec": {
   "display_name": "Python 3 (ipykernel)",
   "language": "python",
   "name": "python3"
  },
  "language_info": {
   "codemirror_mode": {
    "name": "ipython",
    "version": 3
   },
   "file_extension": ".py",
   "mimetype": "text/x-python",
   "name": "python",
   "nbconvert_exporter": "python",
   "pygments_lexer": "ipython3",
   "version": "3.10.0"
  }
 },
 "nbformat": 4,
 "nbformat_minor": 5
}
